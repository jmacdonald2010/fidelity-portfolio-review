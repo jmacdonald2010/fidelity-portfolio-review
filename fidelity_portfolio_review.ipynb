{
 "metadata": {
  "language_info": {
   "codemirror_mode": {
    "name": "ipython",
    "version": 3
   },
   "file_extension": ".py",
   "mimetype": "text/x-python",
   "name": "python",
   "nbconvert_exporter": "python",
   "pygments_lexer": "ipython3",
   "version": "3.8.5-final"
  },
  "orig_nbformat": 2,
  "kernelspec": {
   "name": "python3",
   "display_name": "Python 3",
   "language": "python"
  }
 },
 "nbformat": 4,
 "nbformat_minor": 2,
 "cells": [
  {
   "source": [
    "# Fidelity Portfolio Review\n",
    "### V 0.2.0\n",
    "\n",
    "## What does it do?\n",
    "\n",
    "This notebook imports data from a csv of account positions, copies the data into a new excel workbook, and fills in additional columns with additional information, such as P/E Ratios, Recognia Technical Analysis, etc.\n",
    "\n",
    "## How does it work?\n",
    "\n",
    "This notebook uses the Selenium Webdriver to automate Firefox to navigate through Fidelity's stock research pages and extract useful information. \n",
    "\n",
    "## Dependencies\n",
    "\n",
    "- Selenium V 3.141.0\n",
    "- Gecko Webdriver installed in system path\n",
    "- Pandas\n",
    "- Numpy\n",
    "\n",
    "\n",
    "## Instructions for use\n",
    "\n"
   ],
   "cell_type": "markdown",
   "metadata": {}
  },
  {
   "cell_type": "code",
   "execution_count": null,
   "metadata": {},
   "outputs": [],
   "source": [
    "# import modules\n",
    "from selenium.webdriver import Firefox\n",
    "import time\n",
    "from selenium.webdriver.common.by import By\n",
    "import pandas as pd\n",
    "import numpy as np\n",
    "import re\n",
    "from tkinter import Tk\n",
    "from tkinter.filedialog import askopenfilename\n",
    "import datetime\n",
    "import extract\n",
    "# from shutil import copyfile\n",
    "# import yfinance\n",
    "\n",
    "# import the csv file:\n",
    "\n",
    "# root = Tk()\n",
    "# root.withdraw()\n",
    "# source_data = askopenfilename()\n",
    "# for now, just use the direct file path\n",
    "stock_df = pd.read_csv('test_data.csv', index_col=False)\n",
    "stock_df = stock_df.sort_values('Symbol')\n",
    "\n",
    "# add the necessary columns to the df for the data we will be extracting\n",
    "columns_list = ['Symbol', 'Description', 'Quantity', 'Last Price', 'Last Price Change', 'Current Value', \"Today's Gain/Loss Dollar\", \"Today's Gain/Loss Percent\", \"Total Gain/Loss Dollar\", \"Total Gain/Loss Percent\", \"Percent of Account\", \"Cost Basis Per Share\", \"Cost Basis Total\", 'Div. Amt', 'Div. Yield', 'Equity Summary Score', 'Recognia Short Term', 'Recognia Intermediate Term', 'Recognia Long Term', 'Valuation', 'Quality', 'Growth Stability', 'Financial Health', '1-Yr Price Target', 'P/E TTM', 'P/E 5-Yr Avg', 'P/CF Recent Quarter', 'P/CF TTM', 'P/Sales Recent Quarter', 'P/Sales TTM', 'P/B', 'Debt/Equity TTM', 'Debt/Equity Recent Quarter', '52-Week Performance', \"Account Name/Number\"]\n",
    "stock_df = stock_df.reindex(columns = columns_list)\n",
    "\n",
    "# next step: copy the existing data into the new excel document\n",
    "# code goes here\n",
    "\n",
    "# after that, open the web browser\n",
    "# this will be where this cell ends\n",
    "# needs to open both tabs for Fidelity, and for yfinance (just load the AAPl page by default)"
   ]
  }
 ]
}