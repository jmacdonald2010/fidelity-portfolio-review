{
 "metadata": {
  "language_info": {
   "codemirror_mode": {
    "name": "ipython",
    "version": 3
   },
   "file_extension": ".py",
   "mimetype": "text/x-python",
   "name": "python",
   "nbconvert_exporter": "python",
   "pygments_lexer": "ipython3",
   "version": "3.8.5-final"
  },
  "orig_nbformat": 2,
  "kernelspec": {
   "name": "python3",
   "display_name": "Python 3",
   "language": "python"
  }
 },
 "nbformat": 4,
 "nbformat_minor": 2,
 "cells": [
  {
   "source": [
    "# This is NOT the main Script\n",
    "## This notebook was used to help build the main script.\n",
    "### Selenium Webscraping of Fidelity Stock Research\n",
    "\n",
    "More information on how the notebook works will be added later."
   ],
   "cell_type": "markdown",
   "metadata": {}
  },
  {
   "source": [
    "# imports\n",
    "from selenium.webdriver import Firefox\n",
    "import time\n",
    "from selenium.webdriver.common.by import By\n",
    "import pandas as pd\n",
    "import re"
   ],
   "cell_type": "code",
   "metadata": {},
   "execution_count": 10,
   "outputs": []
  },
  {
   "cell_type": "code",
   "execution_count": null,
   "metadata": {},
   "outputs": [],
   "source": [
    "# coming later; this cell, and likely the ones underneath can be used to read the csv data, create a new excel document to write to, and copy over the relevant data into the new excel document."
   ]
  },
  {
   "cell_type": "code",
   "execution_count": 28,
   "metadata": {},
   "outputs": [],
   "source": [
    "# open the browser, navigate to Fidelity.com\n",
    "# this cell assumes that you have added the webdriver to your system path\n",
    "driver = Firefox()\n",
    "driver.get(\"https://www.fidelity.com/\")"
   ]
  },
  {
   "source": [
    "After the browser navigates to the Fidelity website, go to the browser and log in as you normally would. Once logged in, you can run the next cell."
   ],
   "cell_type": "markdown",
   "metadata": {}
  },
  {
   "cell_type": "code",
   "execution_count": null,
   "metadata": {},
   "outputs": [],
   "source": [
    "# in the final version of this, this is approximately where we would start loading pages and extracting data. During development, this will be a series of that accomplish individual tasks, which will be compiled together into a single script later."
   ]
  },
  {
   "cell_type": "code",
   "execution_count": 12,
   "metadata": {},
   "outputs": [],
   "source": [
    "# this loads the stock research page for V\n",
    "driver.get(\"https://snapshot.fidelity.com/fidresearch/snapshot/landing.jhtml#/research?symbol=V&appCode=&optInNRE=\")\n",
    "# a lot of the elements on the Fidelity research pages won't load unless they are scrolled past in the browser. This next line automates that step. Thanks to pythonbasics.org for this trick.\n",
    "time.sleep(10)\n",
    "driver.execute_script(\"window.scrollTo(0,(document.body.scrollHeight / 2))\")\n",
    "time.sleep(4)\n",
    "driver.execute_script(\"window.scrollTo(0,document.body.scrollHeight)\")"
   ]
  },
  {
   "cell_type": "code",
   "execution_count": 5,
   "metadata": {},
   "outputs": [
    {
     "output_type": "stream",
     "name": "stdout",
     "text": [
      "Research > Stocks >\nVideo Help/Glossary\n"
     ]
    },
    {
     "output_type": "execute_result",
     "data": {
      "text/plain": [
       "'Stocks'"
      ]
     },
     "metadata": {},
     "execution_count": 5
    }
   ],
   "source": [
    "# first, determine if the security is a stock, ETF, mutual fund, or other\n",
    "# TO FIX: this does not work on Mutual Fund pages\n",
    "try:\n",
    "    sec_type = driver.find_element_by_class_name('breadcrumb-div')\n",
    "except:\n",
    "    try:\n",
    "        print('must be a MF')\n",
    "        sec_type = driver.find_element_by_xpath('/html/body/div[3]/div/div/div/header-template/div[1]/div[1]')\n",
    "    except:\n",
    "        print(\"Must not be a MF either, can't find anything\")\n",
    "try:\n",
    "    sec_type = sec_type.text\n",
    "    print(sec_type)\n",
    "except AttributeError:\n",
    "    pass\n",
    "sec_type.strip(\"»\")\n",
    "sec_type = sec_type.split()\n",
    "for x in sec_type:\n",
    "    if x == 'Stocks':\n",
    "        sec_type = x\n",
    "        break\n",
    "    elif x == 'ETFs':\n",
    "        sec_type = x\n",
    "        break\n",
    "    elif x == 'Mutual':\n",
    "        sec_type = 'Mutual Funds'\n",
    "        break\n",
    "sec_type"
   ]
  },
  {
   "cell_type": "code",
   "execution_count": 8,
   "metadata": {},
   "outputs": [
    {
     "output_type": "execute_result",
     "data": {
      "text/plain": [
       "'Valuation\\ncurrent =\\n63\\nOvervalued\\n= 0\\nUndervalued\\n= 100\\nQuality\\ncurrent =\\n50\\nLow\\n= 0\\nHigh\\n= 100\\nGrowth Stability\\ncurrent =\\n11\\nLow\\n= 0\\nHigh\\n= 100\\nFinancial Health\\ncurrent =\\n49\\nLess Healthy\\n= 0\\nHealthy\\n= 100'"
      ]
     },
     "metadata": {},
     "execution_count": 8
    }
   ],
   "source": [
    "# analysis items for stocks\n",
    "analysis_items = driver.find_element_by_class_name('analysis-items')\n",
    "analysis_items.text"
   ]
  },
  {
   "cell_type": "code",
   "execution_count": 45,
   "metadata": {},
   "outputs": [
    {
     "output_type": "execute_result",
     "data": {
      "text/plain": [
       "63"
      ]
     },
     "metadata": {},
     "execution_count": 45
    }
   ],
   "source": [
    "# regex to extract useful data\n",
    "valuation_pos = analysis_items.text.index('Valuation\\ncurrent =')\n",
    "valuation = analysis_items.text[(valuation_pos + 19) : (valuation_pos + 23)]\n",
    "valuation = re.findall(r'\\d+', valuation)\n",
    "int(valuation[0])"
   ]
  },
  {
   "cell_type": "code",
   "execution_count": 47,
   "metadata": {},
   "outputs": [
    {
     "output_type": "execute_result",
     "data": {
      "text/plain": [
       "50"
      ]
     },
     "metadata": {},
     "execution_count": 47
    }
   ],
   "source": [
    "# regex for Quality\n",
    "quality_pos = analysis_items.text.index(\"Quality\")\n",
    "quality = analysis_items.text[(quality_pos + 18) : (quality_pos + 22)]\n",
    "quality = re.findall(r'\\d+', quality)\n",
    "int(quality[0])"
   ]
  },
  {
   "cell_type": "code",
   "execution_count": 50,
   "metadata": {},
   "outputs": [
    {
     "output_type": "execute_result",
     "data": {
      "text/plain": [
       "11"
      ]
     },
     "metadata": {},
     "execution_count": 50
    }
   ],
   "source": [
    "# regex for Growth Stability\n",
    "growth_stability_pos = analysis_items.text.index(\"Growth\")\n",
    "growth_stability = analysis_items.text[(growth_stability_pos + 23) : (growth_stability_pos + 30)]\n",
    "growth_stability = re.findall(r\"\\d+\", growth_stability)\n",
    "int(growth_stability[0])"
   ]
  },
  {
   "cell_type": "code",
   "execution_count": 51,
   "metadata": {},
   "outputs": [
    {
     "output_type": "execute_result",
     "data": {
      "text/plain": [
       "49"
      ]
     },
     "metadata": {},
     "execution_count": 51
    }
   ],
   "source": [
    "# regex for Financial Health\n",
    "fin_health_pos = analysis_items.text.index(\"Health\")\n",
    "fin_health = analysis_items.text[(fin_health_pos + 15): (fin_health_pos + 20)]\n",
    "fin_health = re.findall(r\"\\d+\", fin_health)\n",
    "int(fin_health[0])"
   ]
  },
  {
   "cell_type": "code",
   "execution_count": 9,
   "metadata": {},
   "outputs": [
    {
     "output_type": "execute_result",
     "data": {
      "text/plain": [
       "'4.6'"
      ]
     },
     "metadata": {},
     "execution_count": 9
    }
   ],
   "source": [
    "# equity summary score\n",
    "equity_summ_score = driver.find_element_by_class_name('rating-score')\n",
    "equity_summ_score.text"
   ]
  },
  {
   "cell_type": "code",
   "execution_count": 55,
   "metadata": {},
   "outputs": [
    {
     "output_type": "execute_result",
     "data": {
      "text/plain": [
       "-456.69"
      ]
     },
     "metadata": {},
     "execution_count": 55
    }
   ],
   "source": [
    "# 52 Week Performance\n",
    "fifty_two_week = driver.find_elements_by_id('box14')\n",
    "ftw_perf = fifty_two_week[0].text.splitlines()\n",
    "float(ftw_perf[1].strip('+').strip('%'))"
   ]
  },
  {
   "cell_type": "code",
   "execution_count": 58,
   "metadata": {},
   "outputs": [
    {
     "output_type": "execute_result",
     "data": {
      "text/plain": [
       "(1.28, 0.6)"
      ]
     },
     "metadata": {},
     "execution_count": 58
    }
   ],
   "source": [
    "# Div yield\n",
    "dividends = driver.find_elements_by_id('box11')\n",
    "dividends = dividends[0].text.split()\n",
    "for item in dividends:\n",
    "    if '$' in item:\n",
    "        div_amt = float(item.strip('$'))\n",
    "    if '%' in item:\n",
    "        div_yield = float(item.strip('%'))\n",
    "div_amt, div_yield"
   ]
  },
  {
   "cell_type": "code",
   "execution_count": 70,
   "metadata": {},
   "outputs": [
    {
     "output_type": "execute_result",
     "data": {
      "text/plain": [
       "'weak'"
      ]
     },
     "metadata": {},
     "execution_count": 70
    }
   ],
   "source": [
    "# recognia short term outlook\n",
    "# unsure how well this will work w/ other things\n",
    "# the xpath may be a problematic way to do this\n",
    "short_term = driver.find_elements_by_xpath('/html/body/div[3]/div[2]/div[1]/div[11]/div/div/div/div/section/div/div[1]/div[2]')\n",
    "short_list = short_term[0].get_attribute('innerHTML').split()\n",
    "for i in range(0, len(short_list)):\n",
    "    if short_list[i] == 'bold':\n",
    "        recognia_short_term = short_list[i + 1]\n",
    "        break\n",
    "recognia_short_term = re.findall(r'[a-z]*', recognia_short_term)\n",
    "recognia_short_term[0]"
   ]
  },
  {
   "cell_type": "code",
   "execution_count": 74,
   "metadata": {},
   "outputs": [
    {
     "output_type": "execute_result",
     "data": {
      "text/plain": [
       "'strong'"
      ]
     },
     "metadata": {},
     "execution_count": 74
    }
   ],
   "source": [
    "# attempting to apply same method to mid-term\n",
    "# i should convert this to a function perhaps\n",
    "mid_term = driver.find_elements_by_xpath('/html/body/div[3]/div[2]/div[1]/div[11]/div/div/div/div/section/div/div[2]')\n",
    "mid_list = mid_term[0].get_attribute('innerHTML').split()\n",
    "for i in range(0, len(mid_list)):\n",
    "    if mid_list[i] == 'bold':\n",
    "        recognia_mid_term = mid_list[i + 1]\n",
    "        break\n",
    "recognia_mid_term = re.findall(r'[a-z]*', recognia_mid_term)\n",
    "recognia_mid_term[0]"
   ]
  },
  {
   "cell_type": "code",
   "execution_count": 5,
   "metadata": {},
   "outputs": [
    {
     "output_type": "execute_result",
     "data": {
      "text/plain": [
       "'strong'"
      ]
     },
     "metadata": {},
     "execution_count": 5
    }
   ],
   "source": [
    "# attempting to apply same method to mid-term\n",
    "# i should convert this to a function perhaps\n",
    "long_term = driver.find_elements_by_xpath('/html/body/div[3]/div[2]/div[1]/div[11]/div/div/div/div/section/div/div[3]')\n",
    "long_list = long_term[0].get_attribute('innerHTML').split()\n",
    "for i in range(0, len(long_list)):\n",
    "    if long_list[i] == 'bold':\n",
    "        recognia_long_term = long_list[i + 1]\n",
    "        break\n",
    "recognia_long_term = re.findall(r'[a-z]*', recognia_long_term)\n",
    "recognia_long_term[0]"
   ]
  },
  {
   "cell_type": "code",
   "execution_count": 29,
   "metadata": {},
   "outputs": [],
   "source": [
    "# next, now that we have all of the information we want from the first page, we move to the key stats page\n",
    "driver.get('https://snapshot.fidelity.com/fidresearch/snapshot/landing.jhtml#/keyStatistics?symbol=V')\n",
    "\n",
    "# then, we scroll thru the page like we did earlier to ensure all elements have rendered to the page and are thus accessible for us to extract\n",
    "time.sleep(10)\n",
    "driver.execute_script(\"window.scrollTo(0,(document.body.scrollHeight / 2))\")\n",
    "time.sleep(4)\n",
    "driver.execute_script(\"window.scrollTo(0,document.body.scrollHeight)\")"
   ]
  },
  {
   "cell_type": "code",
   "execution_count": 23,
   "metadata": {},
   "outputs": [
    {
     "output_type": "execute_result",
     "data": {
      "text/plain": [
       "(43.88, 34.36, 34.15, 39.35)"
      ]
     },
     "metadata": {},
     "execution_count": 23
    }
   ],
   "source": [
    "# NOTE: this will be deprecated; see the cell below, which works in a much more efficient way\n",
    "\n",
    "# now, extract the necessary data; start w/ P/E ratio TTM\n",
    "# the first number in each row describes the actual company statistic, the second is the industry average\n",
    "key_stats = driver.find_elements_by_class_name('datatable-component')\n",
    "key_stats = key_stats[0].text.splitlines()\n",
    "# key_stats\n",
    "for stat in key_stats:\n",
    "    if 'P/E (Trailing Twelve Months)' in stat:  # P/E TTM\n",
    "        pe_ttm = stat.split()\n",
    "        for x in pe_ttm:\n",
    "            if '.' in x:\n",
    "                pe_ttm = float(x)   # we only want the first value that would meet this criteria; this would be the actual company's P/E, not the industry one\n",
    "                break\n",
    "    elif 'P/E (5-Year Average)' in stat:    # P/E 5 year average\n",
    "        pe_five_yr = stat.split()\n",
    "        for x in pe_five_yr:\n",
    "            if '.' in x:\n",
    "                pe_five_yr = float(x)\n",
    "                break\n",
    "    elif 'Price/Cash Flow (Most' in stat:   #P/CF most recent quarter\n",
    "        pcf_quarter = stat.split()\n",
    "        for x in pcf_quarter:\n",
    "            if '.' in x:\n",
    "                pcf_quarter = float(x)\n",
    "                break\n",
    "    elif 'Price/Cash Flow (TTM)' in stat:\n",
    "        pcf_ttm = stat.split()\n",
    "        for x in pcf_ttm:\n",
    "            if '.' in x:\n",
    "                pcf_ttm = float(x)\n",
    "                break\n",
    "pe_ttm, pe_five_yr, pcf_quarter, pcf_ttm\n"
   ]
  },
  {
   "cell_type": "code",
   "execution_count": 32,
   "metadata": {},
   "outputs": [
    {
     "output_type": "stream",
     "name": "stdout",
     "text": [
      "P/E (Trailing Twelve Months) 43.88\nP/E (5-Year Average) 34.36\nPrice/Cash Flow (Most Recent Quarter) 34.15\nPrice/Cash Flow (TTM) 39.35\nPrice/Sales (Most Recent Quarter) 19.95\nPrice/Sales (TTM) 21.07\nPrice/Book 14.54\n"
     ]
    }
   ],
   "source": [
    "# the above cell works, but I think there is likely a more efficient way to write it using dicts\n",
    "stock_dict = dict()\n",
    "\n",
    "# normally, the values would be added stock by stock, but since we're mainly developing using V, I will just manually add it\n",
    "stock_dict['V'] = dict()\n",
    "\n",
    "# now, we need a list of statistics that we are looking for to scrape. We're going to use a tuple, because we won't be changing it.\n",
    "stats = ('P/E (Trailing Twelve Months)', 'P/E (5-Year Average)', 'Price/Cash Flow (Most Recent Quarter)', 'Price/Cash Flow (TTM)', 'Price/Sales (Most Recent Quarter)', 'Price/Sales (TTM)', 'Price/Book')\n",
    "\n",
    "# extract data from the page\n",
    "key_stats = driver.find_elements_by_class_name('datatable-component')\n",
    "key_stats = key_stats[0].text.splitlines()\n",
    "\n",
    "# iterate thru data and add to dict\n",
    "# we would normally do this via iteration of all symbols\n",
    "for key, val in stock_dict.items():\n",
    "    for stat in key_stats:\n",
    "        for x in stats:\n",
    "            if x in stat:\n",
    "                y = stat.split()\n",
    "                for z in y:\n",
    "                    if '.' in z:\n",
    "                        val[x] = float(z)\n",
    "                        break\n",
    "\n",
    "# this next part is to test to see if the above code worked\n",
    "for key,val in stock_dict.items():\n",
    "    for x, y in val.items():\n",
    "        print(x,y)"
   ]
  },
  {
   "cell_type": "code",
   "execution_count": 36,
   "metadata": {},
   "outputs": [
    {
     "output_type": "execute_result",
     "data": {
      "text/plain": [
       "   P/E (Trailing Twelve Months)  P/E (5-Year Average)  \\\n",
       "V                         43.88                 34.36   \n",
       "\n",
       "   Price/Cash Flow (Most Recent Quarter)  Price/Cash Flow (TTM)  \\\n",
       "V                                  34.15                  39.35   \n",
       "\n",
       "   Price/Sales (Most Recent Quarter)  Price/Sales (TTM)  Price/Book  \n",
       "V                              19.95              21.07       14.54  "
      ],
      "text/html": "<div>\n<style scoped>\n    .dataframe tbody tr th:only-of-type {\n        vertical-align: middle;\n    }\n\n    .dataframe tbody tr th {\n        vertical-align: top;\n    }\n\n    .dataframe thead th {\n        text-align: right;\n    }\n</style>\n<table border=\"1\" class=\"dataframe\">\n  <thead>\n    <tr style=\"text-align: right;\">\n      <th></th>\n      <th>P/E (Trailing Twelve Months)</th>\n      <th>P/E (5-Year Average)</th>\n      <th>Price/Cash Flow (Most Recent Quarter)</th>\n      <th>Price/Cash Flow (TTM)</th>\n      <th>Price/Sales (Most Recent Quarter)</th>\n      <th>Price/Sales (TTM)</th>\n      <th>Price/Book</th>\n    </tr>\n  </thead>\n  <tbody>\n    <tr>\n      <th>V</th>\n      <td>43.88</td>\n      <td>34.36</td>\n      <td>34.15</td>\n      <td>39.35</td>\n      <td>19.95</td>\n      <td>21.07</td>\n      <td>14.54</td>\n    </tr>\n  </tbody>\n</table>\n</div>"
     },
     "metadata": {},
     "execution_count": 36
    }
   ],
   "source": [
    "# conver the dict to a DF\n",
    "# I think this may be the easiest/fastest way to do this given my data and my extraction methods\n",
    "\n",
    "stock_df = pd.DataFrame.from_dict(stock_dict, orient='index')\n",
    "stock_df"
   ]
  }
 ]
}