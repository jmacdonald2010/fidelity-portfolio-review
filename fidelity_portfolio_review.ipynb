{
 "metadata": {
  "language_info": {
   "codemirror_mode": {
    "name": "ipython",
    "version": 3
   },
   "file_extension": ".py",
   "mimetype": "text/x-python",
   "name": "python",
   "nbconvert_exporter": "python",
   "pygments_lexer": "ipython3",
   "version": "3.8.5-final"
  },
  "orig_nbformat": 2,
  "kernelspec": {
   "name": "python3",
   "display_name": "Python 3",
   "language": "python"
  }
 },
 "nbformat": 4,
 "nbformat_minor": 2,
 "cells": [
  {
   "source": [
    "# Selenium Webscraping of Fidelity Stock Research\n",
    "More information on how the notebook works will be added later."
   ],
   "cell_type": "markdown",
   "metadata": {}
  },
  {
   "cell_type": "code",
   "execution_count": 2,
   "metadata": {},
   "outputs": [],
   "source": [
    "# imports\n",
    "from selenium.webdriver import Firefox\n",
    "import time\n",
    "from selenium.webdriver.common.by import By\n",
    "import pandas as pd"
   ]
  },
  {
   "cell_type": "code",
   "execution_count": null,
   "metadata": {},
   "outputs": [],
   "source": [
    "# coming later; this cell, and likely the ones underneath can be used to read the csv data, create a new excel document to write to, and copy over the relevant data into the new excel document."
   ]
  },
  {
   "cell_type": "code",
   "execution_count": 11,
   "metadata": {},
   "outputs": [],
   "source": [
    "# open the browser, navigate to Fidelity.com\n",
    "# this cell assumes that you have added the webdriver to your system path\n",
    "driver = Firefox()\n",
    "driver.get(\"https://www.fidelity.com/\")"
   ]
  },
  {
   "source": [
    "After the browser navigates to the Fidelity website, go to the browser and log in as you normally would. Once logged in, you can run the next cell."
   ],
   "cell_type": "markdown",
   "metadata": {}
  },
  {
   "cell_type": "code",
   "execution_count": null,
   "metadata": {},
   "outputs": [],
   "source": [
    "# in the final version of this, this is approximately where we would start loading pages and extracting data. During development, this will be a series of that accomplish individual tasks, which will be compiled together into a single script later."
   ]
  },
  {
   "cell_type": "code",
   "execution_count": 38,
   "metadata": {},
   "outputs": [],
   "source": [
    "# this loads the stock research page for V\n",
    "driver.get(\"https://snapshot.fidelity.com/fidresearch/snapshot/landing.jhtml#/research?symbol=V&appCode=&optInNRE=\")\n",
    "# a lot of the elements on the Fidelity research pages won't load unless they are scrolled past in the browser. This next line automates that step. Thanks to pythonbasics.org for this trick.\n",
    "driver.execute_script(\"window.scrollTo(0,document.body.scrollHeight)\")"
   ]
  },
  {
   "cell_type": "code",
   "execution_count": 39,
   "metadata": {},
   "outputs": [
    {
     "output_type": "stream",
     "name": "stdout",
     "text": [
      "Research > Stocks >\nVideo Help/Glossary\n"
     ]
    },
    {
     "output_type": "execute_result",
     "data": {
      "text/plain": [
       "'Stocks'"
      ]
     },
     "metadata": {},
     "execution_count": 39
    }
   ],
   "source": [
    "# first, determine if the security is a stock, ETF, mutual fund, or other\n",
    "# TO FIX: this does not work on Mutual Fund pages\n",
    "try:\n",
    "    sec_type = driver.find_element_by_class_name('breadcrumb-div')\n",
    "except:\n",
    "    try:\n",
    "        print('must be a MF')\n",
    "        sec_type = driver.find_element_by_xpath('/html/body/div[3]/div/div/div/header-template/div[1]/div[1]')\n",
    "    except:\n",
    "        print(\"Must not be a MF either, can't find anything\")\n",
    "try:\n",
    "    sec_type = sec_type.text\n",
    "    print(sec_type)\n",
    "except AttributeError:\n",
    "    pass\n",
    "sec_type.strip(\"»\")\n",
    "sec_type = sec_type.split()\n",
    "for x in sec_type:\n",
    "    if x == 'Stocks':\n",
    "        sec_type = x\n",
    "        break\n",
    "    elif x == 'ETFs':\n",
    "        sec_type = x\n",
    "        break\n",
    "    elif x == 'Mutual':\n",
    "        sec_type = 'Mutual Funds'\n",
    "        break\n",
    "sec_type"
   ]
  },
  {
   "cell_type": "code",
   "execution_count": null,
   "metadata": {},
   "outputs": [],
   "source": []
  }
 ]
}