{
 "metadata": {
  "language_info": {
   "codemirror_mode": {
    "name": "ipython",
    "version": 3
   },
   "file_extension": ".py",
   "mimetype": "text/x-python",
   "name": "python",
   "nbconvert_exporter": "python",
   "pygments_lexer": "ipython3",
   "version": "3.8.5-final"
  },
  "orig_nbformat": 2,
  "kernelspec": {
   "name": "python3",
   "display_name": "Python 3",
   "language": "python"
  }
 },
 "nbformat": 4,
 "nbformat_minor": 2,
 "cells": [
  {
   "source": [
    "# This is NOT the main Script\n",
    "## This notebook was used to help build the main script.\n",
    "### Selenium Webscraping of Fidelity Stock Research\n",
    "\n",
    "More information on how the notebook works will be added later."
   ],
   "cell_type": "markdown",
   "metadata": {}
  },
  {
   "source": [
    "# imports\n",
    "from selenium.webdriver import Firefox\n",
    "import time\n",
    "from selenium.webdriver.common.by import By\n",
    "import pandas as pd\n",
    "import re\n",
    "import yfinance as yf\n",
    "import extract"
   ],
   "cell_type": "code",
   "metadata": {},
   "execution_count": 1,
   "outputs": []
  },
  {
   "cell_type": "code",
   "execution_count": null,
   "metadata": {},
   "outputs": [],
   "source": [
    "# coming later; this cell, and likely the ones underneath can be used to read the csv data, create a new excel document to write to, and copy over the relevant data into the new excel document."
   ]
  },
  {
   "cell_type": "code",
   "execution_count": 2,
   "metadata": {},
   "outputs": [],
   "source": [
    "# open the browser, navigate to Fidelity.com\n",
    "# this cell assumes that you have added the webdriver to your system path\n",
    "driver = Firefox()\n",
    "driver.get(\"https://www.fidelity.com/\")"
   ]
  },
  {
   "source": [
    "After the browser navigates to the Fidelity website, go to the browser and log in as you normally would. Once logged in, you can run the next cell."
   ],
   "cell_type": "markdown",
   "metadata": {}
  },
  {
   "cell_type": "code",
   "execution_count": null,
   "metadata": {},
   "outputs": [],
   "source": [
    "# in the final version of this, this is approximately where we would start loading pages and extracting data. During development, this will be a series of that accomplish individual tasks, which will be compiled together into a single script later."
   ]
  },
  {
   "cell_type": "code",
   "execution_count": 3,
   "metadata": {},
   "outputs": [],
   "source": [
    "# this loads the stock research page for V\n",
    "driver.get(\"https://snapshot.fidelity.com/fidresearch/snapshot/landing.jhtml#/research?symbol=DHI&appCode=&optInNRE=\")\n",
    "# a lot of the elements on the Fidelity research pages won't load unless they are scrolled past in the browser. This next line automates that step. Thanks to pythonbasics.org for this trick.\n",
    "time.sleep(10)\n",
    "driver.execute_script(\"window.scrollTo(0, 0)\")\n",
    "time.sleep(1)\n",
    "driver.execute_script(\"window.scrollTo(0,(document.body.scrollHeight / 2))\")\n",
    "time.sleep(4)\n",
    "driver.execute_script(\"window.scrollTo(0,document.body.scrollHeight)\")"
   ]
  },
  {
   "cell_type": "code",
   "execution_count": 8,
   "metadata": {},
   "outputs": [
    {
     "output_type": "stream",
     "name": "stdout",
     "text": [
      "Research > Stocks >\nVideo Help/Glossary\n"
     ]
    },
    {
     "output_type": "execute_result",
     "data": {
      "text/plain": [
       "'Stocks'"
      ]
     },
     "metadata": {},
     "execution_count": 8
    }
   ],
   "source": [
    "# first, determine if the security is a stock, ETF, mutual fund, or other\n",
    "# TO FIX: this does not work on Mutual Fund pages\n",
    "try:\n",
    "    sec_type = driver.find_element_by_class_name('breadcrumb-div')\n",
    "except:\n",
    "    try:\n",
    "        print('must be a MF')\n",
    "        sec_type = driver.find_element_by_xpath('/html/body/div[3]/div/div/div/header-template/div[1]/div[1]')\n",
    "    except:\n",
    "        print(\"Must not be a MF either, can't find anything\")\n",
    "try:\n",
    "    sec_type = sec_type.text\n",
    "    print(sec_type)\n",
    "except AttributeError:\n",
    "    pass\n",
    "sec_type.strip(\"»\")\n",
    "sec_type = sec_type.split()\n",
    "for x in sec_type:\n",
    "    if x == 'Stocks':\n",
    "        sec_type = x\n",
    "        break\n",
    "    elif x == 'ETFs':\n",
    "        sec_type = x\n",
    "        break\n",
    "    elif x == 'Mutual':\n",
    "        sec_type = 'Mutual Funds'\n",
    "        break\n",
    "sec_type"
   ]
  },
  {
   "source": [
    "# analysis items for stocks\n",
    "analysis_items = driver.find_element_by_class_name('analysis-items')\n",
    "analysis_items.text"
   ],
   "cell_type": "markdown",
   "metadata": {}
  },
  {
   "cell_type": "code",
   "execution_count": 8,
   "metadata": {},
   "outputs": [
    {
     "output_type": "execute_result",
     "data": {
      "text/plain": [
       "75"
      ]
     },
     "metadata": {},
     "execution_count": 8
    }
   ],
   "source": [
    "# regex to extract useful data\n",
    "valuation_pos = analysis_items.text.index('Valuation\\ncurrent =')\n",
    "valuation = analysis_items.text[(valuation_pos + 19) : (valuation_pos + 23)]\n",
    "valuation = re.findall(r'\\d+', valuation)\n",
    "int(valuation[0])"
   ]
  },
  {
   "cell_type": "code",
   "execution_count": 9,
   "metadata": {},
   "outputs": [
    {
     "output_type": "execute_result",
     "data": {
      "text/plain": [
       "90"
      ]
     },
     "metadata": {},
     "execution_count": 9
    }
   ],
   "source": [
    "# regex for Quality\n",
    "quality_pos = analysis_items.text.index(\"Quality\")\n",
    "quality = analysis_items.text[(quality_pos + 18) : (quality_pos + 22)]\n",
    "quality = re.findall(r'\\d+', quality)\n",
    "int(quality[0])"
   ]
  },
  {
   "cell_type": "code",
   "execution_count": 10,
   "metadata": {},
   "outputs": [
    {
     "output_type": "execute_result",
     "data": {
      "text/plain": [
       "88"
      ]
     },
     "metadata": {},
     "execution_count": 10
    }
   ],
   "source": [
    "# regex for Growth Stability\n",
    "growth_stability_pos = analysis_items.text.index(\"Growth\")\n",
    "growth_stability = analysis_items.text[(growth_stability_pos + 23) : (growth_stability_pos + 30)]\n",
    "growth_stability = re.findall(r\"\\d+\", growth_stability)\n",
    "int(growth_stability[0])"
   ]
  },
  {
   "cell_type": "code",
   "execution_count": 11,
   "metadata": {},
   "outputs": [
    {
     "output_type": "execute_result",
     "data": {
      "text/plain": [
       "75"
      ]
     },
     "metadata": {},
     "execution_count": 11
    }
   ],
   "source": [
    "# regex for Financial Health\n",
    "fin_health_pos = analysis_items.text.index(\"Health\")\n",
    "fin_health = analysis_items.text[(fin_health_pos + 15): (fin_health_pos + 20)]\n",
    "fin_health = re.findall(r\"\\d+\", fin_health)\n",
    "int(fin_health[0])"
   ]
  },
  {
   "cell_type": "code",
   "execution_count": 12,
   "metadata": {},
   "outputs": [
    {
     "output_type": "execute_result",
     "data": {
      "text/plain": [
       "'7.7'"
      ]
     },
     "metadata": {},
     "execution_count": 12
    }
   ],
   "source": [
    "# equity summary score\n",
    "equity_summ_score = driver.find_element_by_class_name('rating-score')\n",
    "equity_summ_score.text"
   ]
  },
  {
   "cell_type": "code",
   "execution_count": 13,
   "metadata": {},
   "outputs": [
    {
     "output_type": "execute_result",
     "data": {
      "text/plain": [
       "77.33"
      ]
     },
     "metadata": {},
     "execution_count": 13
    }
   ],
   "source": [
    "# 52 Week Performance\n",
    "fifty_two_week = driver.find_elements_by_id('box14')\n",
    "ftw_perf = fifty_two_week[0].text.splitlines()\n",
    "float(ftw_perf[1].strip('+').strip('%'))"
   ]
  },
  {
   "cell_type": "code",
   "execution_count": 14,
   "metadata": {},
   "outputs": [
    {
     "output_type": "execute_result",
     "data": {
      "text/plain": [
       "(0.82, 0.68)"
      ]
     },
     "metadata": {},
     "execution_count": 14
    }
   ],
   "source": [
    "# Div yield\n",
    "dividends = driver.find_elements_by_id('box11')\n",
    "dividends = dividends[0].text.split()\n",
    "for item in dividends:\n",
    "    if '$' in item:\n",
    "        div_amt = float(item.strip('$'))\n",
    "    if '%' in item:\n",
    "        div_yield = float(item.strip('%'))\n",
    "div_amt, div_yield"
   ]
  },
  {
   "cell_type": "code",
   "execution_count": 15,
   "metadata": {},
   "outputs": [
    {
     "output_type": "execute_result",
     "data": {
      "text/plain": [
       "'weak'"
      ]
     },
     "metadata": {},
     "execution_count": 15
    }
   ],
   "source": [
    "# recognia short term outlook\n",
    "# unsure how well this will work w/ other things\n",
    "# the xpath may be a problematic way to do this\n",
    "short_term = driver.find_elements_by_xpath('/html/body/div[3]/div[2]/div[1]/div[11]/div/div/div/div/section/div/div[1]/div[2]')\n",
    "short_list = short_term[0].get_attribute('innerHTML').split()\n",
    "for i in range(0, len(short_list)):\n",
    "    if short_list[i] == 'bold':\n",
    "        recognia_short_term = short_list[i + 1]\n",
    "        break\n",
    "recognia_short_term = re.findall(r'[a-z]*', recognia_short_term)\n",
    "recognia_short_term[0]"
   ]
  },
  {
   "cell_type": "code",
   "execution_count": 16,
   "metadata": {},
   "outputs": [
    {
     "output_type": "execute_result",
     "data": {
      "text/plain": [
       "'weak'"
      ]
     },
     "metadata": {},
     "execution_count": 16
    }
   ],
   "source": [
    "# attempting to apply same method to mid-term\n",
    "# i should convert this to a function perhaps\n",
    "mid_term = driver.find_elements_by_xpath('/html/body/div[3]/div[2]/div[1]/div[11]/div/div/div/div/section/div/div[2]')\n",
    "mid_list = mid_term[0].get_attribute('innerHTML').split()\n",
    "for i in range(0, len(mid_list)):\n",
    "    if mid_list[i] == 'bold':\n",
    "        recognia_mid_term = mid_list[i + 1]\n",
    "        break\n",
    "recognia_mid_term = re.findall(r'[a-z]*', recognia_mid_term)\n",
    "recognia_mid_term[0]"
   ]
  },
  {
   "cell_type": "code",
   "execution_count": 17,
   "metadata": {},
   "outputs": [
    {
     "output_type": "execute_result",
     "data": {
      "text/plain": [
       "'neutral'"
      ]
     },
     "metadata": {},
     "execution_count": 17
    }
   ],
   "source": [
    "# attempting to apply same method to mid-term\n",
    "# i should convert this to a function perhaps\n",
    "long_term = driver.find_elements_by_xpath('/html/body/div[3]/div[2]/div[1]/div[11]/div/div/div/div/section/div/div[3]')\n",
    "long_list = long_term[0].get_attribute('innerHTML').split()\n",
    "for i in range(0, len(long_list)):\n",
    "    if long_list[i] == 'bold':\n",
    "        recognia_long_term = long_list[i + 1]\n",
    "        break\n",
    "recognia_long_term = re.findall(r'[a-z]*', recognia_long_term)\n",
    "recognia_long_term[0]"
   ]
  },
  {
   "cell_type": "code",
   "execution_count": 52,
   "metadata": {},
   "outputs": [
    {
     "output_type": "execute_result",
     "data": {
      "text/plain": [
       "{'Recognia Short Term': 'weak',\n",
       " 'Recognia Intermediate Term': 'strong',\n",
       " 'Recognia Long Term': 'strong'}"
      ]
     },
     "metadata": {},
     "execution_count": 52
    }
   ],
   "source": [
    "# this is an attempt to condense the three separate code blocks down to one, in an attempt to not rewrite the same code twice\n",
    "recognia_fixed_dict = {\n",
    "    'Recognia Short Term': '/html/body/div[3]/div[2]/div[1]/div[11]/div/div/div/div/section/div/div[1]/div[2]',\n",
    "    'Recognia Intermediate Term': '/html/body/div[3]/div[2]/div[1]/div[11]/div/div/div/div/section/div/div[2]',\n",
    "    'Recognia Long Term': '/html/body/div[3]/div[2]/div[1]/div[11]/div/div/div/div/section/div/div[3]'\n",
    "}\n",
    "\n",
    "recognia_dict = dict()\n",
    "\n",
    "for key, val in recognia_fixed_dict.items():\n",
    "    element = driver.find_elements_by_xpath(val)\n",
    "    elem_list = element[0].get_attribute('innerHTML').split()\n",
    "    for i in range(0, len(elem_list)):\n",
    "        if elem_list[i] == 'bold':\n",
    "            result = elem_list[i + 1]\n",
    "            result = re.findall(r'[a-z]*', result)\n",
    "            recognia_dict[key] = result[0]\n",
    "            break\n",
    "recognia_dict\n",
    "\n",
    "# note on 3/2/2021 08:28: to make this work w/ ETFs, I'll just have an ETF part of the if statement and create a different dict for the ETF xpaths"
   ]
  },
  {
   "cell_type": "code",
   "execution_count": 3,
   "metadata": {},
   "outputs": [],
   "source": [
    "# next, now that we have all of the information we want from the first page, we move to the key stats page\n",
    "driver.get('https://snapshot.fidelity.com/fidresearch/snapshot/landing.jhtml#/keyStatistics?symbol=AAPL')\n",
    "\n",
    "# then, we scroll thru the page like we did earlier to ensure all elements have rendered to the page and are thus accessible for us to extract\n",
    "\n",
    "time.sleep(10)\n",
    "driver.execute_script(\"window.scrollTo(0, 0)\")\n",
    "time.sleep(1)\n",
    "driver.execute_script(\"window.scrollTo(0,(document.body.scrollHeight / 2))\")\n",
    "time.sleep(4)\n",
    "driver.execute_script(\"window.scrollTo(0,document.body.scrollHeight)\")"
   ]
  },
  {
   "cell_type": "code",
   "execution_count": null,
   "metadata": {},
   "outputs": [],
   "source": [
    "# NOTE: this will be deprecated; see the cell below, which works in a much more efficient way\n",
    "\n",
    "# now, extract the necessary data; start w/ P/E ratio TTM\n",
    "# the first number in each row describes the actual company statistic, the second is the industry average\n",
    "key_stats = driver.find_elements_by_class_name('datatable-component')\n",
    "key_stats = key_stats[0].text.splitlines()\n",
    "# key_stats\n",
    "for stat in key_stats:\n",
    "    if 'P/E (Trailing Twelve Months)' in stat:  # P/E TTM\n",
    "        pe_ttm = stat.split()\n",
    "        for x in pe_ttm:\n",
    "            if '.' in x:\n",
    "                pe_ttm = float(x)   # we only want the first value that would meet this criteria; this would be the actual company's P/E, not the industry one\n",
    "                break\n",
    "    elif 'P/E (5-Year Average)' in stat:    # P/E 5 year average\n",
    "        pe_five_yr = stat.split()\n",
    "        for x in pe_five_yr:\n",
    "            if '.' in x:\n",
    "                pe_five_yr = float(x)\n",
    "                break\n",
    "    elif 'Price/Cash Flow (Most' in stat:   #P/CF most recent quarter\n",
    "        pcf_quarter = stat.split()\n",
    "        for x in pcf_quarter:\n",
    "            if '.' in x:\n",
    "                pcf_quarter = float(x)\n",
    "                break\n",
    "    elif 'Price/Cash Flow (TTM)' in stat:\n",
    "        pcf_ttm = stat.split()\n",
    "        for x in pcf_ttm:\n",
    "            if '.' in x:\n",
    "                pcf_ttm = float(x)\n",
    "                break\n",
    "pe_ttm, pe_five_yr, pcf_quarter, pcf_ttm\n"
   ]
  },
  {
   "cell_type": "code",
   "execution_count": 19,
   "metadata": {},
   "outputs": [
    {
     "output_type": "stream",
     "name": "stdout",
     "text": [
      "P/E (Trailing Twelve Months) 32.84\nP/E (5-Year Average) 18.82\nPrice/Cash Flow (Most Recent Quarter) 16.23\nPrice/Cash Flow (TTM) 27.64\nPrice/Sales (Most Recent Quarter) 4.58\nPrice/Sales (TTM) 7.03\nPrice/Book 29.31\n"
     ]
    }
   ],
   "source": [
    "# the above cell works, but I think there is likely a more efficient way to write it using dicts\n",
    "stock_dict = dict()\n",
    "\n",
    "# normally, the values would be added stock by stock, but since we're mainly developing using V, I will just manually add it\n",
    "stock_dict['V'] = dict()\n",
    "\n",
    "# now, we need a list of statistics that we are looking for to scrape. We're going to use a tuple, because we won't be changing it.\n",
    "stats = ('P/E (Trailing Twelve Months)', 'P/E (5-Year Average)', 'Price/Cash Flow (Most Recent Quarter)', 'Price/Cash Flow (TTM)', 'Price/Sales (Most Recent Quarter)', 'Price/Sales (TTM)', 'Price/Book')\n",
    "\n",
    "# extract data from the page\n",
    "key_stats = driver.find_elements_by_class_name('datatable-component')\n",
    "key_stats = key_stats[0].text.splitlines()\n",
    "\n",
    "# iterate thru data and add to dict\n",
    "# we would normally do this via iteration of all symbols\n",
    "for key, val in stock_dict.items():\n",
    "    for stat in key_stats:\n",
    "        for x in stats:\n",
    "            if x in stat:\n",
    "                y = stat.split()\n",
    "                for z in y:\n",
    "                    if '.' in z:\n",
    "                        val[x] = float(z)\n",
    "                        break\n",
    "\n",
    "# this next part is to test to see if the above code worked\n",
    "for key,val in stock_dict.items():\n",
    "    for x, y in val.items():\n",
    "        print(x,y)"
   ]
  },
  {
   "cell_type": "code",
   "execution_count": 13,
   "metadata": {},
   "outputs": [
    {
     "output_type": "execute_result",
     "data": {
      "text/plain": [
       "{'Total Debt/Equity (Most Recent Quarter, Annualized)': 169.19,\n",
       " 'Total Debt/Equity (TTM)': 168.37}"
      ]
     },
     "metadata": {},
     "execution_count": 13
    }
   ],
   "source": [
    "# extract overall price to debt, stocks only:\n",
    "key_stats = driver.find_elements_by_class_name('datatable-component')\n",
    "key_stats = key_stats[4].text.splitlines()\n",
    "# key_stats\n",
    "\n",
    "debt_stats = ('Total Debt/Equity (Most Recent Quarter, Annualized)', 'Total Debt/Equity (TTM)')\n",
    "debt_dict = dict()\n",
    "\n",
    "for stat in debt_stats:\n",
    "    for x in key_stats:\n",
    "        if stat in x:\n",
    "            x = x.split()\n",
    "            for text in x:\n",
    "                if '%' in text:\n",
    "                    debt_dict[stat] = float(text.strip('%'))\n",
    "                    break\n",
    "debt_dict"
   ]
  },
  {
   "cell_type": "code",
   "execution_count": null,
   "metadata": {},
   "outputs": [],
   "source": [
    "# conver the dict to a DF\n",
    "# I think this may be the easiest/fastest way to do this given my data and my extraction methods\n",
    "\n",
    "stock_df = pd.DataFrame.from_dict(stock_dict, orient='index')\n",
    "stock_df"
   ]
  },
  {
   "cell_type": "code",
   "execution_count": 42,
   "metadata": {},
   "outputs": [],
   "source": [
    "# finding price targets\n",
    "# yfinance does not provide price targets, so I'll need to scrape that data myself\n",
    "\n",
    "# first, need to open a new tab, then change the focus to that new tab\n",
    "driver.execute_script('''window.open(\"https://finance.yahoo.com/quote/V?p=V&.tsrc=fin-srch\", \"_blank\");''')\n",
    "time.sleep(3)\n",
    "driver.switch_to_window(driver.window_handles[1])"
   ]
  },
  {
   "cell_type": "code",
   "execution_count": 45,
   "metadata": {},
   "outputs": [
    {
     "output_type": "error",
     "ename": "IndexError",
     "evalue": "list index out of range",
     "traceback": [
      "\u001b[0;31m---------------------------------------------------------------------------\u001b[0m",
      "\u001b[0;31mIndexError\u001b[0m                                Traceback (most recent call last)",
      "\u001b[0;32m<ipython-input-45-4947af91a9c3>\u001b[0m in \u001b[0;36m<module>\u001b[0;34m\u001b[0m\n\u001b[1;32m      1\u001b[0m \u001b[0;31m# now extract that data using the following xpath\u001b[0m\u001b[0;34m\u001b[0m\u001b[0;34m\u001b[0m\u001b[0;34m\u001b[0m\u001b[0m\n\u001b[1;32m      2\u001b[0m \u001b[0mprice_target\u001b[0m \u001b[0;34m=\u001b[0m \u001b[0mdriver\u001b[0m\u001b[0;34m.\u001b[0m\u001b[0mfind_elements_by_xpath\u001b[0m\u001b[0;34m(\u001b[0m\u001b[0;34m'/html/body/div[1]/div/div/div[1]/div/div[3]/div[1]/div/div[1]/div/div/div/div[2]/div[2]/table/tbody/tr[8]/td[2]/span'\u001b[0m\u001b[0;34m)\u001b[0m\u001b[0;34m\u001b[0m\u001b[0;34m\u001b[0m\u001b[0m\n\u001b[0;32m----> 3\u001b[0;31m \u001b[0mfloat\u001b[0m\u001b[0;34m(\u001b[0m\u001b[0mprice_target\u001b[0m\u001b[0;34m[\u001b[0m\u001b[0;36m0\u001b[0m\u001b[0;34m]\u001b[0m\u001b[0;34m.\u001b[0m\u001b[0mtext\u001b[0m\u001b[0;34m)\u001b[0m\u001b[0;34m\u001b[0m\u001b[0;34m\u001b[0m\u001b[0m\n\u001b[0m",
      "\u001b[0;31mIndexError\u001b[0m: list index out of range"
     ]
    }
   ],
   "source": [
    "# now extract that data using the following xpath\n",
    "price_target = driver.find_elements_by_xpath('/html/body/div[1]/div/div/div[1]/div/div[3]/div[1]/div/div[1]/div/div/div/div[2]/div[2]/table/tbody/tr[8]/td[2]/span')\n",
    "float(price_target[0].text)"
   ]
  },
  {
   "cell_type": "code",
   "execution_count": 44,
   "metadata": {},
   "outputs": [],
   "source": [
    "# then, switch back to fidelity\n",
    "other_window = driver.window_handles[0] # switches back to the first open window (fidelity)\n",
    "# other_window\n",
    "driver.switch_to.window(window_name=other_window)"
   ]
  },
  {
   "source": [
    "## ETF Data Extraction Below"
   ],
   "cell_type": "markdown",
   "metadata": {}
  },
  {
   "cell_type": "code",
   "execution_count": 20,
   "metadata": {},
   "outputs": [],
   "source": [
    "# this is for retrieving data for ETFs\n",
    "# this loads the stock research page for V\n",
    "driver.get(\"https://snapshot.fidelity.com/fidresearch/snapshot/landing.jhtml#/research?symbol=TAN&appCode=&optInNRE=\")\n",
    "# a lot of the elements on the Fidelity research pages won't load unless they are scrolled past in the browser. This next line automates that step. Thanks to pythonbasics.org for this trick.\n",
    "time.sleep(10)\n",
    "driver.execute_script(\"window.scrollTo(0,(document.body.scrollHeight / 2))\")\n",
    "time.sleep(4)\n",
    "driver.execute_script(\"window.scrollTo(0,document.body.scrollHeight)\")"
   ]
  },
  {
   "cell_type": "code",
   "execution_count": 26,
   "metadata": {},
   "outputs": [
    {
     "output_type": "execute_result",
     "data": {
      "text/plain": [
       "{'Price / Earnings (TTM)': 47.24,\n",
       " 'Price / Book': 4.34,\n",
       " 'Price / Sales': 3.5,\n",
       " 'Price / Cash Flow': 14.82,\n",
       " 'etf_distribution_yield': 0.08}"
      ]
     },
     "metadata": {},
     "execution_count": 26
    }
   ],
   "source": [
    "# first, get some of the key stats from this; a lot of this is different from stocks, so ultimately, we'll have a bit less data to work w/\n",
    "etf_stats = ('Price / Earnings (TTM)', 'Price / Book', 'Price / Sales', 'Price / Cash Flow', 'Distribution Yield')\n",
    "\n",
    "key_stats = driver.find_elements_by_id('keyStatistics-equity-data-table')\n",
    "key_stats = key_stats[0].text.splitlines()\n",
    "\n",
    "etf_stats_dict = dict()\n",
    "for x in range(len(key_stats)):\n",
    "    for y in etf_stats:\n",
    "        if y in key_stats[x]:\n",
    "            if 'Distribution Yield' in key_stats[x]:\n",
    "                etf_stats_dict['etf_distribution_yield'] = float(key_stats[x + 2].strip('%'))\n",
    "            else:\n",
    "                etf_stats_dict[y] = float(key_stats[x + 1])\n",
    "\n",
    "etf_stats_dict\n",
    "            \n"
   ]
  },
  {
   "cell_type": "code",
   "execution_count": 31,
   "metadata": {},
   "outputs": [
    {
     "output_type": "execute_result",
     "data": {
      "text/plain": [
       "'177.67'"
      ]
     },
     "metadata": {},
     "execution_count": 31
    }
   ],
   "source": [
    "ftwk_perf_etf = driver.find_elements_by_id('box14etf')\n",
    "ftwk_perf_etf = ftwk_perf_etf[0].text.splitlines()\n",
    "ftwk_perf_etf = ftwk_perf_etf[1].strip('+').strip('%')\n",
    "ftwk_perf_etf"
   ]
  },
  {
   "cell_type": "code",
   "execution_count": 35,
   "metadata": {},
   "outputs": [
    {
     "output_type": "execute_result",
     "data": {
      "text/plain": [
       "'weak'"
      ]
     },
     "metadata": {},
     "execution_count": 35
    }
   ],
   "source": [
    "# recognia for ETFs\n",
    "# short term\n",
    "\n",
    "recognia_short_term = driver.find_elements_by_xpath('/html/body/div[3]/div[2]/div[1]/div[7]/div/div/div/div/section/div/div[1]')\n",
    "short_list = recognia_short_term[0].get_attribute('innerHTML').split()\n",
    "for i in range(0, len(short_list)):\n",
    "    if short_list[i] == 'bold':\n",
    "        recognia_short_term = short_list[i + 1]\n",
    "        break\n",
    "recognia_short_term = re.findall(r'[a-z]*', recognia_short_term)\n",
    "recognia_short_term[0]"
   ]
  },
  {
   "cell_type": "code",
   "execution_count": 36,
   "metadata": {},
   "outputs": [
    {
     "output_type": "execute_result",
     "data": {
      "text/plain": [
       "'weak'"
      ]
     },
     "metadata": {},
     "execution_count": 36
    }
   ],
   "source": [
    "# recognia for ETFs\n",
    "# mid term\n",
    "\n",
    "recognia_mid_term = driver.find_elements_by_xpath('/html/body/div[3]/div[2]/div[1]/div[7]/div/div/div/div/section/div/div[2]')\n",
    "mid_list = recognia_mid_term[0].get_attribute('innerHTML').split()\n",
    "for i in range(0, len(mid_list)):\n",
    "    if mid_list[i] == 'bold':\n",
    "        recognia_mid_term = mid_list[i + 1]\n",
    "        break\n",
    "recognia_mid_term = re.findall(r'[a-z]*', recognia_mid_term)\n",
    "recognia_mid_term[0]"
   ]
  },
  {
   "cell_type": "code",
   "execution_count": 37,
   "metadata": {},
   "outputs": [
    {
     "output_type": "execute_result",
     "data": {
      "text/plain": [
       "'strong'"
      ]
     },
     "metadata": {},
     "execution_count": 37
    }
   ],
   "source": [
    "# recognia for ETFs\n",
    "# long term\n",
    "\n",
    "recognia_long_term = driver.find_elements_by_xpath('/html/body/div[3]/div[2]/div[1]/div[7]/div/div/div/div/section/div/div[3]')\n",
    "long_list = recognia_long_term[0].get_attribute('innerHTML').split()\n",
    "for i in range(0, len(long_list)):\n",
    "    if long_list[i] == 'bold':\n",
    "        recognia_long_term = long_list[i + 1]\n",
    "        break\n",
    "recognia_long_term = re.findall(r'[a-z]*', recognia_long_term)\n",
    "recognia_long_term[0]"
   ]
  },
  {
   "source": [
    "## Mutual Fund Data Extraction"
   ],
   "cell_type": "markdown",
   "metadata": {}
  },
  {
   "cell_type": "code",
   "execution_count": 39,
   "metadata": {},
   "outputs": [],
   "source": [
    "# fetch using the same link, b/c apparently that works?\n",
    "driver.get(\"https://snapshot.fidelity.com/fidresearch/snapshot/landing.jhtml#/research?symbol=FFFHX&appCode=&optInNRE=\")\n",
    "# a lot of the elements on the Fidelity research pages won't load unless they are scrolled past in the browser. This next line automates that step. Thanks to pythonbasics.org for this trick.\n",
    "time.sleep(10)\n",
    "driver.execute_script(\"window.scrollTo(0,(document.body.scrollHeight / 2))\")\n",
    "time.sleep(4)\n",
    "driver.execute_script(\"window.scrollTo(0,document.body.scrollHeight)\")"
   ]
  },
  {
   "cell_type": "code",
   "execution_count": 43,
   "metadata": {},
   "outputs": [
    {
     "output_type": "execute_result",
     "data": {
      "text/plain": [
       "32.94"
      ]
     },
     "metadata": {},
     "execution_count": 43
    }
   ],
   "source": [
    "# really the only metric that we can extract that will fit into our excel document is 1-yr performance\n",
    "mf_ftwk_perf = driver.find_elements_by_xpath('/html/body/div[3]/div/div/div/div[1]/div[2]/performance-template/div/div[2]/div/div/div[2]/div[1]/p[2]')\n",
    "mf_ftwk_perf = float(mf_ftwk_perf[0].text.strip('+').strip('%'))\n",
    "mf_ftwk_perf"
   ]
  },
  {
   "source": [
    "## Testing Functions in the extract.py file."
   ],
   "cell_type": "markdown",
   "metadata": {}
  },
  {
   "cell_type": "code",
   "execution_count": 4,
   "metadata": {},
   "outputs": [
    {
     "output_type": "stream",
     "name": "stdout",
     "text": [
      "Stocks\n"
     ]
    }
   ],
   "source": [
    "sec_type = extract.determine_security_type(driver)\n",
    "print(sec_type)\n",
    "# altho this output looks weird it works?"
   ]
  },
  {
   "cell_type": "code",
   "execution_count": 10,
   "metadata": {},
   "outputs": [
    {
     "output_type": "execute_result",
     "data": {
      "text/plain": [
       "(0.8, 1.02)"
      ]
     },
     "metadata": {},
     "execution_count": 10
    }
   ],
   "source": [
    "extract.stock_div_yield(driver)"
   ]
  },
  {
   "cell_type": "code",
   "execution_count": 11,
   "metadata": {},
   "outputs": [
    {
     "output_type": "execute_result",
     "data": {
      "text/plain": [
       "6.8"
      ]
     },
     "metadata": {},
     "execution_count": 11
    }
   ],
   "source": [
    "extract.stock_equity_sum_score(driver)"
   ]
  },
  {
   "cell_type": "code",
   "execution_count": 20,
   "metadata": {},
   "outputs": [
    {
     "output_type": "execute_result",
     "data": {
      "text/plain": [
       "True"
      ]
     },
     "metadata": {},
     "execution_count": 20
    }
   ],
   "source": [
    "sec_type\n",
    "sec_type == sec_type"
   ]
  },
  {
   "cell_type": "code",
   "execution_count": 5,
   "metadata": {},
   "outputs": [
    {
     "output_type": "execute_result",
     "data": {
      "text/plain": [
       "{'Recognia Short Term': 'weak',\n",
       " 'Recognia Intermediate Term': 'strong',\n",
       " 'Recognia Long Term': 'strong'}"
      ]
     },
     "metadata": {},
     "execution_count": 5
    }
   ],
   "source": [
    "extract.recognia_analysis(driver, sec_type)"
   ]
  },
  {
   "cell_type": "code",
   "execution_count": 6,
   "metadata": {},
   "outputs": [
    {
     "output_type": "execute_result",
     "data": {
      "text/plain": [
       "63"
      ]
     },
     "metadata": {},
     "execution_count": 6
    }
   ],
   "source": [
    "extract.stock_valuation(driver)"
   ]
  },
  {
   "cell_type": "code",
   "execution_count": 7,
   "metadata": {},
   "outputs": [
    {
     "output_type": "execute_result",
     "data": {
      "text/plain": [
       "37"
      ]
     },
     "metadata": {},
     "execution_count": 7
    }
   ],
   "source": [
    "extract.stock_quality(driver)"
   ]
  },
  {
   "cell_type": "code",
   "execution_count": 8,
   "metadata": {},
   "outputs": [
    {
     "output_type": "execute_result",
     "data": {
      "text/plain": [
       "77"
      ]
     },
     "metadata": {},
     "execution_count": 8
    }
   ],
   "source": [
    "extract.stock_growth_stability(driver)"
   ]
  },
  {
   "cell_type": "code",
   "execution_count": 9,
   "metadata": {},
   "outputs": [
    {
     "output_type": "execute_result",
     "data": {
      "text/plain": [
       "96"
      ]
     },
     "metadata": {},
     "execution_count": 9
    }
   ],
   "source": [
    "extract.stock_financial_health(driver)"
   ]
  },
  {
   "cell_type": "code",
   "execution_count": 12,
   "metadata": {},
   "outputs": [
    {
     "output_type": "execute_result",
     "data": {
      "text/plain": [
       "({'10.65': 10.65,\n",
       "  '11.97': 11.97,\n",
       "  '8.85': 8.85,\n",
       "  '10.22': 10.22,\n",
       "  '1.21': 1.21,\n",
       "  '1.29': 1.29,\n",
       "  '2.50': 2.5},\n",
       " {'Total Debt/Equity (Most Recent Quarter, Annualized)': 34.13,\n",
       "  'Total Debt/Equity (TTM)': 37.67})"
      ]
     },
     "metadata": {},
     "execution_count": 12
    }
   ],
   "source": [
    "extract.stock_key_stats(driver, 'DHI')\n",
    "# needs tested again when the kernel is re-init"
   ]
  },
  {
   "cell_type": "code",
   "execution_count": 13,
   "metadata": {},
   "outputs": [],
   "source": [
    "# prep for testing yf stuff\n",
    "driver.execute_script('''window.open(\"https://finance.yahoo.com/quote/V?p=V&.tsrc=fin-srch\", \"_blank\");''')\n",
    "time.sleep(3)"
   ]
  },
  {
   "cell_type": "code",
   "execution_count": 15,
   "metadata": {},
   "outputs": [
    {
     "output_type": "error",
     "ename": "NoSuchElementException",
     "evalue": "Message: Web element reference not seen before: {\"element-6066-11e4-a52e-4f735466cecf\":\"02799716-a0f5-4c57-8484-3b1b9f363e03\"}\n",
     "traceback": [
      "\u001b[1;31m---------------------------------------------------------------------------\u001b[0m",
      "\u001b[1;31mNoSuchElementException\u001b[0m                    Traceback (most recent call last)",
      "\u001b[1;32m<ipython-input-15-ab6500ffd4b6>\u001b[0m in \u001b[0;36m<module>\u001b[1;34m\u001b[0m\n\u001b[1;32m----> 1\u001b[1;33m \u001b[0mextract\u001b[0m\u001b[1;33m.\u001b[0m\u001b[0mstock_one_yr_price_target\u001b[0m\u001b[1;33m(\u001b[0m\u001b[0mdriver\u001b[0m\u001b[1;33m,\u001b[0m \u001b[1;34m'DHI'\u001b[0m\u001b[1;33m)\u001b[0m\u001b[1;33m\u001b[0m\u001b[1;33m\u001b[0m\u001b[0m\n\u001b[0m",
      "\u001b[1;32mc:\\Users\\james\\Dropbox\\Box Sync\\code\\fidelityReview\\fidelity-portfolio-review\\fidelity-portfolio-review\\extract.py\u001b[0m in \u001b[0;36mstock_one_yr_price_target\u001b[1;34m(driver, symbol)\u001b[0m\n\u001b[0;32m    123\u001b[0m     \u001b[0mother_window\u001b[0m \u001b[1;33m=\u001b[0m \u001b[0mdriver\u001b[0m\u001b[1;33m.\u001b[0m\u001b[0mwindow_handles\u001b[0m\u001b[1;33m[\u001b[0m\u001b[1;36m0\u001b[0m\u001b[1;33m]\u001b[0m \u001b[1;31m# switches back to the first open window (fidelity)\u001b[0m\u001b[1;33m\u001b[0m\u001b[1;33m\u001b[0m\u001b[0m\n\u001b[0;32m    124\u001b[0m     \u001b[1;31m# other_window\u001b[0m\u001b[1;33m\u001b[0m\u001b[1;33m\u001b[0m\u001b[1;33m\u001b[0m\u001b[0m\n\u001b[1;32m--> 125\u001b[1;33m     \u001b[0mdriver\u001b[0m\u001b[1;33m.\u001b[0m\u001b[0mswitch_to\u001b[0m\u001b[1;33m.\u001b[0m\u001b[0mwindow\u001b[0m\u001b[1;33m(\u001b[0m\u001b[0mwindow_name\u001b[0m\u001b[1;33m=\u001b[0m\u001b[0mother_window\u001b[0m\u001b[1;33m)\u001b[0m\u001b[1;33m\u001b[0m\u001b[1;33m\u001b[0m\u001b[0m\n\u001b[0m\u001b[0;32m    126\u001b[0m     \u001b[1;32mreturn\u001b[0m \u001b[0mfloat\u001b[0m\u001b[1;33m(\u001b[0m\u001b[0mprice_target\u001b[0m\u001b[1;33m[\u001b[0m\u001b[1;36m0\u001b[0m\u001b[1;33m]\u001b[0m\u001b[1;33m.\u001b[0m\u001b[0mtext\u001b[0m\u001b[1;33m)\u001b[0m\u001b[1;33m\u001b[0m\u001b[1;33m\u001b[0m\u001b[0m\n\u001b[0;32m    127\u001b[0m \u001b[1;33m\u001b[0m\u001b[0m\n",
      "\u001b[1;32m~\\anaconda3\\lib\\site-packages\\selenium\\webdriver\\remote\\webelement.py\u001b[0m in \u001b[0;36mtext\u001b[1;34m(self)\u001b[0m\n\u001b[0;32m     74\u001b[0m     \u001b[1;32mdef\u001b[0m \u001b[0mtext\u001b[0m\u001b[1;33m(\u001b[0m\u001b[0mself\u001b[0m\u001b[1;33m)\u001b[0m\u001b[1;33m:\u001b[0m\u001b[1;33m\u001b[0m\u001b[1;33m\u001b[0m\u001b[0m\n\u001b[0;32m     75\u001b[0m         \u001b[1;34m\"\"\"The text of the element.\"\"\"\u001b[0m\u001b[1;33m\u001b[0m\u001b[1;33m\u001b[0m\u001b[0m\n\u001b[1;32m---> 76\u001b[1;33m         \u001b[1;32mreturn\u001b[0m \u001b[0mself\u001b[0m\u001b[1;33m.\u001b[0m\u001b[0m_execute\u001b[0m\u001b[1;33m(\u001b[0m\u001b[0mCommand\u001b[0m\u001b[1;33m.\u001b[0m\u001b[0mGET_ELEMENT_TEXT\u001b[0m\u001b[1;33m)\u001b[0m\u001b[1;33m[\u001b[0m\u001b[1;34m'value'\u001b[0m\u001b[1;33m]\u001b[0m\u001b[1;33m\u001b[0m\u001b[1;33m\u001b[0m\u001b[0m\n\u001b[0m\u001b[0;32m     77\u001b[0m \u001b[1;33m\u001b[0m\u001b[0m\n\u001b[0;32m     78\u001b[0m     \u001b[1;32mdef\u001b[0m \u001b[0mclick\u001b[0m\u001b[1;33m(\u001b[0m\u001b[0mself\u001b[0m\u001b[1;33m)\u001b[0m\u001b[1;33m:\u001b[0m\u001b[1;33m\u001b[0m\u001b[1;33m\u001b[0m\u001b[0m\n",
      "\u001b[1;32m~\\anaconda3\\lib\\site-packages\\selenium\\webdriver\\remote\\webelement.py\u001b[0m in \u001b[0;36m_execute\u001b[1;34m(self, command, params)\u001b[0m\n\u001b[0;32m    631\u001b[0m             \u001b[0mparams\u001b[0m \u001b[1;33m=\u001b[0m \u001b[1;33m{\u001b[0m\u001b[1;33m}\u001b[0m\u001b[1;33m\u001b[0m\u001b[1;33m\u001b[0m\u001b[0m\n\u001b[0;32m    632\u001b[0m         \u001b[0mparams\u001b[0m\u001b[1;33m[\u001b[0m\u001b[1;34m'id'\u001b[0m\u001b[1;33m]\u001b[0m \u001b[1;33m=\u001b[0m \u001b[0mself\u001b[0m\u001b[1;33m.\u001b[0m\u001b[0m_id\u001b[0m\u001b[1;33m\u001b[0m\u001b[1;33m\u001b[0m\u001b[0m\n\u001b[1;32m--> 633\u001b[1;33m         \u001b[1;32mreturn\u001b[0m \u001b[0mself\u001b[0m\u001b[1;33m.\u001b[0m\u001b[0m_parent\u001b[0m\u001b[1;33m.\u001b[0m\u001b[0mexecute\u001b[0m\u001b[1;33m(\u001b[0m\u001b[0mcommand\u001b[0m\u001b[1;33m,\u001b[0m \u001b[0mparams\u001b[0m\u001b[1;33m)\u001b[0m\u001b[1;33m\u001b[0m\u001b[1;33m\u001b[0m\u001b[0m\n\u001b[0m\u001b[0;32m    634\u001b[0m \u001b[1;33m\u001b[0m\u001b[0m\n\u001b[0;32m    635\u001b[0m     \u001b[1;32mdef\u001b[0m \u001b[0mfind_element\u001b[0m\u001b[1;33m(\u001b[0m\u001b[0mself\u001b[0m\u001b[1;33m,\u001b[0m \u001b[0mby\u001b[0m\u001b[1;33m=\u001b[0m\u001b[0mBy\u001b[0m\u001b[1;33m.\u001b[0m\u001b[0mID\u001b[0m\u001b[1;33m,\u001b[0m \u001b[0mvalue\u001b[0m\u001b[1;33m=\u001b[0m\u001b[1;32mNone\u001b[0m\u001b[1;33m)\u001b[0m\u001b[1;33m:\u001b[0m\u001b[1;33m\u001b[0m\u001b[1;33m\u001b[0m\u001b[0m\n",
      "\u001b[1;32m~\\anaconda3\\lib\\site-packages\\selenium\\webdriver\\remote\\webdriver.py\u001b[0m in \u001b[0;36mexecute\u001b[1;34m(self, driver_command, params)\u001b[0m\n\u001b[0;32m    319\u001b[0m         \u001b[0mresponse\u001b[0m \u001b[1;33m=\u001b[0m \u001b[0mself\u001b[0m\u001b[1;33m.\u001b[0m\u001b[0mcommand_executor\u001b[0m\u001b[1;33m.\u001b[0m\u001b[0mexecute\u001b[0m\u001b[1;33m(\u001b[0m\u001b[0mdriver_command\u001b[0m\u001b[1;33m,\u001b[0m \u001b[0mparams\u001b[0m\u001b[1;33m)\u001b[0m\u001b[1;33m\u001b[0m\u001b[1;33m\u001b[0m\u001b[0m\n\u001b[0;32m    320\u001b[0m         \u001b[1;32mif\u001b[0m \u001b[0mresponse\u001b[0m\u001b[1;33m:\u001b[0m\u001b[1;33m\u001b[0m\u001b[1;33m\u001b[0m\u001b[0m\n\u001b[1;32m--> 321\u001b[1;33m             \u001b[0mself\u001b[0m\u001b[1;33m.\u001b[0m\u001b[0merror_handler\u001b[0m\u001b[1;33m.\u001b[0m\u001b[0mcheck_response\u001b[0m\u001b[1;33m(\u001b[0m\u001b[0mresponse\u001b[0m\u001b[1;33m)\u001b[0m\u001b[1;33m\u001b[0m\u001b[1;33m\u001b[0m\u001b[0m\n\u001b[0m\u001b[0;32m    322\u001b[0m             response['value'] = self._unwrap_value(\n\u001b[0;32m    323\u001b[0m                 response.get('value', None))\n",
      "\u001b[1;32m~\\anaconda3\\lib\\site-packages\\selenium\\webdriver\\remote\\errorhandler.py\u001b[0m in \u001b[0;36mcheck_response\u001b[1;34m(self, response)\u001b[0m\n\u001b[0;32m    240\u001b[0m                 \u001b[0malert_text\u001b[0m \u001b[1;33m=\u001b[0m \u001b[0mvalue\u001b[0m\u001b[1;33m[\u001b[0m\u001b[1;34m'alert'\u001b[0m\u001b[1;33m]\u001b[0m\u001b[1;33m.\u001b[0m\u001b[0mget\u001b[0m\u001b[1;33m(\u001b[0m\u001b[1;34m'text'\u001b[0m\u001b[1;33m)\u001b[0m\u001b[1;33m\u001b[0m\u001b[1;33m\u001b[0m\u001b[0m\n\u001b[0;32m    241\u001b[0m             \u001b[1;32mraise\u001b[0m \u001b[0mexception_class\u001b[0m\u001b[1;33m(\u001b[0m\u001b[0mmessage\u001b[0m\u001b[1;33m,\u001b[0m \u001b[0mscreen\u001b[0m\u001b[1;33m,\u001b[0m \u001b[0mstacktrace\u001b[0m\u001b[1;33m,\u001b[0m \u001b[0malert_text\u001b[0m\u001b[1;33m)\u001b[0m\u001b[1;33m\u001b[0m\u001b[1;33m\u001b[0m\u001b[0m\n\u001b[1;32m--> 242\u001b[1;33m         \u001b[1;32mraise\u001b[0m \u001b[0mexception_class\u001b[0m\u001b[1;33m(\u001b[0m\u001b[0mmessage\u001b[0m\u001b[1;33m,\u001b[0m \u001b[0mscreen\u001b[0m\u001b[1;33m,\u001b[0m \u001b[0mstacktrace\u001b[0m\u001b[1;33m)\u001b[0m\u001b[1;33m\u001b[0m\u001b[1;33m\u001b[0m\u001b[0m\n\u001b[0m\u001b[0;32m    243\u001b[0m \u001b[1;33m\u001b[0m\u001b[0m\n\u001b[0;32m    244\u001b[0m     \u001b[1;32mdef\u001b[0m \u001b[0m_value_or_default\u001b[0m\u001b[1;33m(\u001b[0m\u001b[0mself\u001b[0m\u001b[1;33m,\u001b[0m \u001b[0mobj\u001b[0m\u001b[1;33m,\u001b[0m \u001b[0mkey\u001b[0m\u001b[1;33m,\u001b[0m \u001b[0mdefault\u001b[0m\u001b[1;33m)\u001b[0m\u001b[1;33m:\u001b[0m\u001b[1;33m\u001b[0m\u001b[1;33m\u001b[0m\u001b[0m\n",
      "\u001b[1;31mNoSuchElementException\u001b[0m: Message: Web element reference not seen before: {\"element-6066-11e4-a52e-4f735466cecf\":\"02799716-a0f5-4c57-8484-3b1b9f363e03\"}\n"
     ]
    }
   ],
   "source": [
    "extract.stock_one_yr_price_target(driver, 'DHI')\n",
    "# needs new test, possibly fixed"
   ]
  },
  {
   "source": [
    "## Fixing Things, before re-init kernel to test above"
   ],
   "cell_type": "markdown",
   "metadata": {}
  },
  {
   "cell_type": "code",
   "execution_count": 25,
   "metadata": {},
   "outputs": [
    {
     "output_type": "execute_result",
     "data": {
      "text/plain": [
       "151.75"
      ]
     },
     "metadata": {},
     "execution_count": 25
    }
   ],
   "source": [
    "driver.switch_to_window(driver.window_handles[1])\n",
    "driver.get(f'https://finance.yahoo.com/quote/AAPL?p=AAPL&.tsrc=fin-srch')\n",
    "time.sleep(5)   # I don't think this will need automated scrolling down the page, not sure though.\n",
    "price_target = driver.find_elements_by_id('quote-summary')\n",
    "price_target = price_target[0].text.splitlines()\n",
    "price_target\n",
    "for stat in price_target:\n",
    "    if '1y Target' in stat:\n",
    "        stat = stat.split()\n",
    "        for x in stat:\n",
    "            if '.' in x:\n",
    "                price_target = float(x)\n",
    "                break\n",
    "price_target\n",
    "# time.sleep(5)\n",
    "# other_window = driver.window_handles[0] # switches back to the first open window # (fidelity)\n",
    "# # other_window\n",
    "# driver.switch_to.window(window_name=other_window)\n",
    "# float(price_target[0].text)"
   ]
  }
 ]
}